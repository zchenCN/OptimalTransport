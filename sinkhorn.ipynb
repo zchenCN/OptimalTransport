{
 "cells": [
  {
   "cell_type": "code",
   "execution_count": 1,
   "id": "0959522a",
   "metadata": {},
   "outputs": [],
   "source": [
    "import torch \n",
    "import numpy as np\n",
    "import matplotlib.pyplot as plt\n",
    "%matplotlib inline"
   ]
  },
  {
   "cell_type": "markdown",
   "id": "9ac54dac",
   "metadata": {},
   "source": [
    "# Introduction\n",
    "Optimal Transport(OT) was first study by Gaspard Monge in 1781 who want to minimize her total effort to move a large pile of sand lying on a construction site. Mathematiciana interested in OT cast that problem as that of comparing two probability distributions.  \n",
    "We say $a$ is an **histogram** or **probability vector** if it belongs to the **probability** simplex\n",
    "$$\n",
    "\\Sigma_n = \\left\\{a \\in \\mathbb{R}^n_{+}: \\sum_{i=1}^na_i=1\\right\\}\n",
    "$$\n",
    "\n",
    "## Kantorovich Problem\n",
    "Given to histogram $a\\in \\Sigma_n$ and $b\\in \\Sigma_m$, $P\\in \\mathbb{R}^{n\\times m}_{+}$ is the **coupling** matrix , where $P_{ij}$ describe the amount of mass flowing from bin $i$ to bin $j$. Admissible coupling admit a simple characterization that\n",
    "$$\n",
    "U(a, b) = \\left\\{P \\in \\mathbb{R}^{n\\times m}_{+}: \\sum_jP_{ij} = a_i, \\sum_iP_{ij} = b_j\\right\\}\n",
    "$$\n",
    "The set of $U(a, b)$ defined by $m+n$ equality constraints.\n",
    "Given a cost marix $C$, Kantorovich problem try to seek coupling matrix that minimize total effort\n",
    "$$\n",
    "L_C(a, b) = \\min_{P\\in U(a, b)}\\left<P, C\\right>\n",
    "$$\n",
    "This is a linear program and as is usually the case with such programs, its optimal solutions are not necessarily unique.\n",
    "## Wasserstein Distance\n",
    "An import feature of OT is that it defines a distacne between histograms as soon as the cost matrix $C = D^p$ where $D$ is a distance matrix. Then we can define so-called wasserstein distance on probability simplex $\\Sigma_n$\n",
    "$$\n",
    "W_p(a, b) = L_{D^p}(a, b)^{1/p}\n",
    "$$\n",
    "## Entropic Regularization\n",
    "We will introduce a family of numerical schemes to approximate solutions to Kantorovich formulation of OT. It operates by adding an entropic regularization to the original problem. The minimization of the regularized problem can be solved by using a simple alternate minimization scheme which are iterations of simple matrix-vector products. The resulting approximate distance is smooth with respect to input histogram weights and can be differentiated using automatic differentiation.  \n",
    "The discrete entropy of the coupling matrix is defined as:\n",
    "$$\n",
    "H(P) = -\\sum_{i, j}P_{ij}(\\log(P_{ij})-1)\n",
    "$$\n",
    "The idea of the entropic regularization of OT is to use $-H$ as a regularization function to obtain approximate solutions to the origin Kantorovich OT problem:\n",
    "$$\n",
    "L^{\\epsilon}_C(a, b) = \\min_{P\\in U(a, b)}\\left<P, C\\right> - \\epsilon H(P)\n",
    "$$\n",
    "## Sinkhorn Algorithm\n",
    "Let $K$ denote the Gibbs kernel associated to the cost matrix $C$ as:\n",
    "$$\n",
    "K_{ij} = e^{-\\frac{C_{ij}}{\\epsilon}}\n",
    "$$\n",
    "The solution of the regularized OT problem has the form:\n",
    "$$\n",
    "P_{ij} = u_iK_{ij}v_j\n",
    "$$\n",
    "for two (unknow) scaling variable $(u, v) \\in \\mathbb{R}^n_+\\times\\mathbb{R}^m_+$.\n",
    "Then the problem will be reduced to matrix scaling problem which can be solved by Sinkhorn Algorithm\n",
    "$$\n",
    "u^{(l+1)} = \\frac{a}{K\\textbf{v}^(l)}, \\quad v^{(l+1)} = \\frac{b}{u^{(l+1)}}\n",
    "$$\n",
    "In order to speed up the Sinkhorn's iterations, we can compute several regularized Wasserstein distances between pairs of histograms simultaneously. Let $N$ be an integer, $a_1, \\cdots,a_N$ be histograms in $\\Sigma_n$, and $b_1, \\cdots, b_N$ be histograms in $\\Sigma_m$. We seek to compute all $N$ approximate distances $L_C^{\\epsilon}(a_1, b_1), \\cdots, L_C^{\\epsilon}(a_N, b_N).$  In that case, writing $A = [a_1, \\cdots, a_N]$ and $B = [b_1, \\cdots,b_N]$ for the $n\\times N$ and $m\\times N$ matrices storing all histograms,  one can notice that all Sinkhorn iterations for all these $N$ pairs can be carried out in parallel, by setting, for instance, \n",
    "$$\n",
    "U^{(l+1)} = \\frac{A}{KV^(l)}, \\quad V^{(l+1)} = \\frac{B}{K^TU^{(l+1)}}\n",
    "$$\n",
    "initialized with $V^{(0)} = \\mathbb{1}_{m\\times N}.$"
   ]
  },
  {
   "cell_type": "code",
   "execution_count": 2,
   "id": "9611bdea",
   "metadata": {},
   "outputs": [],
   "source": [
    "def cost_matrix(X, Y, p):\n",
    "    \"\"\"Computing the cost matrix, i.e.\n",
    "        C_ij = ||x_i-y_j||_p^p\n",
    "    \"\"\"\n",
    "    X_col = X[:, np.newaxis]\n",
    "    Y_lin = Y[np.newaxis, :]\n",
    "    C = np.sum((np.abs(X_col - Y_lin)) ** p, axis=2)\n",
    "    return C"
   ]
  },
  {
   "cell_type": "code",
   "execution_count": 3,
   "id": "76503d67",
   "metadata": {},
   "outputs": [
    {
     "data": {
      "text/plain": [
       "<matplotlib.legend.Legend at 0x2a390a9fec8>"
      ]
     },
     "execution_count": 3,
     "metadata": {},
     "output_type": "execute_result"
    },
    {
     "data": {
      "image/png": "[encoded data removed]",
      "text/plain": [
       "<Figure size 432x288 with 1 Axes>"
      ]
     },
     "metadata": {
      "needs_background": "light"
     },
     "output_type": "display_data"
    }
   ],
   "source": [
    "# Define two probability distribution \n",
    "n_points = 5\n",
    "x = np.array([[i, 0] for i in range(n_points)])# support of p\n",
    "y = np.array([[i, 1] for i in range(n_points)])# support of q\n",
    "plt.scatter(x[:, 0], x[:, 1], label='supp($p$)')\n",
    "plt.scatter(y[:, 0], y[:, 1], label='supp($q$)')\n",
    "plt.title('support of probability distribution $p$ and $q$')\n",
    "plt.legend()"
   ]
  },
  {
   "cell_type": "code",
   "execution_count": 4,
   "id": "da895982",
   "metadata": {},
   "outputs": [
    {
     "data": {
      "text/plain": [
       "<matplotlib.colorbar.Colorbar at 0x2a390b8fc08>"
      ]
     },
     "execution_count": 4,
     "metadata": {},
     "output_type": "execute_result"
    },
    {
     "data": {
      "image/png": "[encoded data removed]",
      "text/plain": [
       "<Figure size 432x288 with 2 Axes>"
      ]
     },
     "metadata": {
      "needs_background": "light"
     },
     "output_type": "display_data"
    }
   ],
   "source": [
    "# Cost matrix\n",
    "C = cost_matrix(x, y, 2)\n",
    "plt.imshow(C)\n",
    "plt.title('cost matrix')\n",
    "plt.colorbar()"
   ]
  },
  {
   "cell_type": "code",
   "execution_count": 20,
   "id": "5405142e",
   "metadata": {},
   "outputs": [],
   "source": [
    "# Probability vector\n",
    "a = np.ones((n_points)) / n_points\n",
    "b = np.ones((n_points)) / n_points"
   ]
  },
  {
   "cell_type": "code",
   "execution_count": 23,
   "id": "b1f85996",
   "metadata": {},
   "outputs": [],
   "source": [
    "def sinkhorn_iteration(a, b, C, eps, L):\n",
    "    \"\"\"Sinkhorn algotirhm\n",
    "    \"\"\"\n",
    "    # Gibbs kernel\n",
    "    K = np.exp(-C/eps)\n",
    "    assert not np.any(np.isnan(K))\n",
    "    v = np.ones((len(b), 1))\n",
    "    for l in range(L):\n",
    "        u = a[:, np.newaxis] / (K @ v)\n",
    "        v = b[:, np.newaxis] / (K.T @ u)\n",
    "    P = np.diag(u.squeeze()) @ K @ np.diag(v.squeeze())\n",
    "    cost = np.sum(P * C)\n",
    "    return P, cost"
   ]
  },
  {
   "cell_type": "code",
   "execution_count": 25,
   "id": "f8b0228d",
   "metadata": {},
   "outputs": [
    {
     "name": "stdout",
     "output_type": "stream",
     "text": [
      "Sinkhorn distance of two distribution is 1.00007\n"
     ]
    },
    {
     "data": {
      "image/png": "[encoded data removed]",
      "text/plain": [
       "<Figure size 432x288 with 2 Axes>"
      ]
     },
     "metadata": {
      "needs_background": "light"
     },
     "output_type": "display_data"
    }
   ],
   "source": [
    "# Adjust epsilon to find how it influence the result\n",
    "P, cost = sinkhorn_iteration(a, b, C, eps=0.1, L=100) \n",
    "print(f\"Sinkhorn distance of two distribution is {cost:g}\")\n",
    "plt.figure()\n",
    "plt.imshow(P)\n",
    "plt.title('Coupling matrix')\n",
    "plt.colorbar()\n",
    "plt.show()"
   ]
  },
  {
   "cell_type": "markdown",
   "id": "f0f7a117",
   "metadata": {},
   "source": [
    "## Log-Domain Computations\n",
    "When you set `eps` above to 0.01, you will find that the algorithm suffers from numerical overflow. This concern can be alleviated to some extent by carrying out computations in the log domain. The relevance of this approch is made more clear by the dual problem\n",
    "$$\n",
    "L^{\\epsilon}_C(a, b) = \\max_{f, g}\\left<f, a\\right> + \\left<g, b\\right> - \\epsilon \\left<e^{f/\\epsilon}, Ke^{g/\\epsilon}\\right>\n",
    "$$\n",
    "The optimal $(f, g)$ are linked to scaling $(u, v)$ through\n",
    "$$\n",
    "(u, v) = (e^{f/\\epsilon}, e^{g/\\epsilon})\n",
    "$$"
   ]
  },
  {
   "cell_type": "code",
   "execution_count": null,
   "id": "a5c25683",
   "metadata": {},
   "outputs": [],
   "source": []
  }
 ],
 "metadata": {
  "kernelspec": {
   "display_name": "Python 3 (ipykernel)",
   "language": "python",
   "name": "python3"
  },
  "language_info": {
   "codemirror_mode": {
    "name": "ipython",
    "version": 3
   },
   "file_extension": ".py",
   "mimetype": "text/x-python",
   "name": "python",
   "nbconvert_exporter": "python",
   "pygments_lexer": "ipython3",
   "version": "3.7.10"
  }
 },
 "nbformat": 4,
 "nbformat_minor": 5
}
