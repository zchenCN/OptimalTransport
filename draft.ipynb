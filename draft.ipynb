{
 "cells": [
  {
   "cell_type": "code",
   "execution_count": 1,
   "id": "6e1d799c",
   "metadata": {},
   "outputs": [],
   "source": [
    "import torch\n",
    "import numpy as np\n",
    "import matplotlib.pyplot as plt\n",
    "%matplotlib inline"
   ]
  },
  {
   "cell_type": "code",
   "execution_count": 2,
   "id": "f74c722d",
   "metadata": {},
   "outputs": [
    {
     "data": {
      "text/plain": [
       "<matplotlib.legend.Legend at 0x21967e1b048>"
      ]
     },
     "execution_count": 2,
     "metadata": {},
     "output_type": "execute_result"
    },
    {
     "data": {
      "image/png": "[encoded data removed]",
      "text/plain": [
       "<Figure size 432x288 with 1 Axes>"
      ]
     },
     "metadata": {
      "needs_background": "light"
     },
     "output_type": "display_data"
    }
   ],
   "source": [
    "n_points = 5\n",
    "a = np.array([[i, 0] for i in range(n_points)])\n",
    "b = np.array([[i, 1] for i in range(n_points)])\n",
    "\n",
    "plt.figure()\n",
    "plt.scatter(a[:, 0], a[:, 1], label='supp($p(x)$')\n",
    "plt.scatter(b[:, 0], b[:, 1], label='supp($q(x)$')\n",
    "plt.legend()"
   ]
  },
  {
   "cell_type": "code",
   "execution_count": 3,
   "id": "64130c18",
   "metadata": {},
   "outputs": [],
   "source": [
    "x = torch.tensor(a, dtype=torch.float)\n",
    "y = torch.tensor(b, dtype=torch.float)"
   ]
  },
  {
   "cell_type": "code",
   "execution_count": 4,
   "id": "c505904f",
   "metadata": {},
   "outputs": [],
   "source": [
    "# Cost Matrix\n",
    "p = 2\n",
    "x_col = x.unsqueeze(1)\n",
    "y_lin = y.unsqueeze(0)\n",
    "c = torch.sum((torch.abs(x_col - y_lin)) ** 2, 2)"
   ]
  },
  {
   "cell_type": "code",
   "execution_count": 5,
   "id": "0017cd2b",
   "metadata": {},
   "outputs": [
    {
     "data": {
      "text/plain": [
       "tensor([[ 1.,  2.,  5., 10., 17.],\n",
       "        [ 2.,  1.,  2.,  5., 10.],\n",
       "        [ 5.,  2.,  1.,  2.,  5.],\n",
       "        [10.,  5.,  2.,  1.,  2.],\n",
       "        [17., 10.,  5.,  2.,  1.]])"
      ]
     },
     "execution_count": 5,
     "metadata": {},
     "output_type": "execute_result"
    }
   ],
   "source": [
    "c"
   ]
  },
  {
   "cell_type": "code",
   "execution_count": 6,
   "id": "2e0e61a8",
   "metadata": {},
   "outputs": [],
   "source": [
    "# Sinkhorn's Algorithm\n",
    "mu = torch.ones(n_points,requires_grad=True) / n_points\n",
    "nu = torch.ones(n_points,requires_grad=True) / n_points\n",
    "epsilon = 1\n",
    "K = torch.exp(-c/epsilon)\n",
    "\n",
    "v = torch.ones(n_points)\n",
    "max_niter = 100\n",
    "actual_niter = 0\n",
    "threshold = 1e-3\n",
    "for _ in range(max_niter):\n",
    "    v1 = v\n",
    "    u = mu / torch.matmul(K, v)\n",
    "    v = nu / torch.matmul(K.T, u)\n",
    "    \n",
    "    err = torch.sum(torch.abs(v-v1))\n",
    "    actual_niter += 1\n",
    "    if err < threshold:\n",
    "        break"
   ]
  },
  {
   "cell_type": "code",
   "execution_count": 7,
   "id": "e481277f",
   "metadata": {},
   "outputs": [
    {
     "data": {
      "text/plain": [
       "8"
      ]
     },
     "execution_count": 7,
     "metadata": {},
     "output_type": "execute_result"
    }
   ],
   "source": [
    "actual_niter"
   ]
  },
  {
   "cell_type": "code",
   "execution_count": 8,
   "id": "9aab7537",
   "metadata": {},
   "outputs": [
    {
     "data": {
      "text/plain": [
       "tensor([0.3725, 0.3182, 0.3232, 0.3182, 0.3725], grad_fn=<DivBackward0>)"
      ]
     },
     "execution_count": 8,
     "metadata": {},
     "output_type": "execute_result"
    }
   ],
   "source": [
    "u"
   ]
  },
  {
   "cell_type": "code",
   "execution_count": 9,
   "id": "c1897e45",
   "metadata": {},
   "outputs": [
    {
     "data": {
      "text/plain": [
       "tensor([1.0971, 0.9374, 0.9523, 0.9374, 1.0971], grad_fn=<DivBackward0>)"
      ]
     },
     "execution_count": 9,
     "metadata": {},
     "output_type": "execute_result"
    }
   ],
   "source": [
    "v"
   ]
  },
  {
   "cell_type": "code",
   "execution_count": 10,
   "id": "0f79208a",
   "metadata": {},
   "outputs": [
    {
     "data": {
      "text/plain": [
       "tensor([[1.5035e-01, 4.7257e-02, 2.3901e-03, 1.5853e-05, 1.6920e-08],\n",
       "        [4.7244e-02, 1.0972e-01, 4.1005e-02, 2.0096e-03, 1.5848e-05],\n",
       "        [2.3890e-03, 4.0997e-02, 1.1321e-01, 4.0997e-02, 2.3890e-03],\n",
       "        [1.5848e-05, 2.0096e-03, 4.1005e-02, 1.0972e-01, 4.7244e-02],\n",
       "        [1.6920e-08, 1.5853e-05, 2.3901e-03, 4.7257e-02, 1.5035e-01]],\n",
       "       grad_fn=<MmBackward>)"
      ]
     },
     "execution_count": 10,
     "metadata": {},
     "output_type": "execute_result"
    }
   ],
   "source": [
    "P = torch.matmul(torch.matmul(torch.diag(u), K), torch.diag(v))\n",
    "P"
   ]
  },
  {
   "cell_type": "code",
   "execution_count": 11,
   "id": "dfa5cd5e",
   "metadata": {},
   "outputs": [
    {
     "data": {
      "text/plain": [
       "<matplotlib.colorbar.Colorbar at 0x21968090508>"
      ]
     },
     "execution_count": 11,
     "metadata": {},
     "output_type": "execute_result"
    },
    {
     "data": {
      "image/png": "[encoded data removed]",
      "text/plain": [
       "<Figure size 432x288 with 2 Axes>"
      ]
     },
     "metadata": {
      "needs_background": "light"
     },
     "output_type": "display_data"
    }
   ],
   "source": [
    "plt.figure()\n",
    "plt.imshow(P.detach().numpy())\n",
    "plt.colorbar()"
   ]
  },
  {
   "cell_type": "code",
   "execution_count": 12,
   "id": "08a23b3d",
   "metadata": {},
   "outputs": [
    {
     "data": {
      "text/plain": [
       "tensor(1.4079, grad_fn=<SumBackward0>)"
      ]
     },
     "execution_count": 12,
     "metadata": {},
     "output_type": "execute_result"
    }
   ],
   "source": [
    "dist = torch.sum(P * c)\n",
    "dist"
   ]
  },
  {
   "cell_type": "code",
   "execution_count": 92,
   "id": "4c894685",
   "metadata": {},
   "outputs": [],
   "source": [
    "# Example 2\n",
    "def u(x):\n",
    "    if x > np.pi/2:\n",
    "        return 0\n",
    "    elif x < -np.pi/2:\n",
    "        return 0\n",
    "    else:\n",
    "        return np.cos(x)\n",
    "t = np.linspace(-5*np.pi/2, 5*np.pi/2, 100)\n",
    "a = np.array(list(map(u, t)))"
   ]
  },
  {
   "cell_type": "code",
   "execution_count": 93,
   "id": "ce23219b",
   "metadata": {},
   "outputs": [],
   "source": [
    "def shift(u, s):\n",
    "    n = len(u)\n",
    "    assert np.abs(s) < n\n",
    "    if s > 0:\n",
    "        return np.concatenate((np.full(s, 0), u[:-s]))\n",
    "    elif s < 0:\n",
    "        return np.concatenate((u[-s:], np.full(-s, 0)))\n",
    "    else:\n",
    "        return u"
   ]
  },
  {
   "cell_type": "code",
   "execution_count": 94,
   "id": "fdaa857f",
   "metadata": {},
   "outputs": [
    {
     "data": {
      "text/plain": [
       "[<matplotlib.lines.Line2D at 0x2196aa3dc88>]"
      ]
     },
     "execution_count": 94,
     "metadata": {},
     "output_type": "execute_result"
    },
    {
     "data": {
      "image/png": "[encoded data removed]",
      "text/plain": [
       "<Figure size 432x288 with 1 Axes>"
      ]
     },
     "metadata": {
      "needs_background": "light"
     },
     "output_type": "display_data"
    }
   ],
   "source": [
    "plt.figure()\n",
    "plt.plot(a)\n",
    "plt.plot(shift(a, 5))\n",
    "plt.plot(shift(a, -5))"
   ]
  },
  {
   "cell_type": "code",
   "execution_count": 95,
   "id": "c3ea16cd",
   "metadata": {},
   "outputs": [],
   "source": [
    "s = np.arange(-20, 20, 2)\n",
    "ns = len(s)\n",
    "A = np.matmul(a.reshape(-1, 1), np.ones((1, ns)))\n",
    "B = np.zeros((len(a), ns))\n",
    "for i, st in enumerate(s):\n",
    "    B[:, i] = shift(a, st)"
   ]
  },
  {
   "cell_type": "code",
   "execution_count": 96,
   "id": "c9b7a959",
   "metadata": {},
   "outputs": [
    {
     "data": {
      "text/plain": [
       "<matplotlib.colorbar.Colorbar at 0x2196aaeba88>"
      ]
     },
     "execution_count": 96,
     "metadata": {},
     "output_type": "execute_result"
    },
    {
     "data": {
      "image/png": "[encoded data removed]",
      "text/plain": [
       "<Figure size 432x288 with 2 Axes>"
      ]
     },
     "metadata": {
      "needs_background": "light"
     },
     "output_type": "display_data"
    }
   ],
   "source": [
    "t_col = np.expand_dims(t, 0)\n",
    "t_lin = np.expand_dims(t, 1)\n",
    "cost = (t_lin - t_col) ** 2\n",
    "plt.figure()\n",
    "plt.imshow(cost)\n",
    "plt.colorbar()"
   ]
  },
  {
   "cell_type": "code",
   "execution_count": 108,
   "id": "6af1da39",
   "metadata": {},
   "outputs": [],
   "source": [
    "eps = 1\n",
    "K = np.exp(-cost/eps)"
   ]
  },
  {
   "cell_type": "code",
   "execution_count": 109,
   "id": "147d3948",
   "metadata": {},
   "outputs": [
    {
     "data": {
      "text/plain": [
       "(100, 100)"
      ]
     },
     "execution_count": 109,
     "metadata": {},
     "output_type": "execute_result"
    }
   ],
   "source": [
    "K.shape"
   ]
  },
  {
   "cell_type": "code",
   "execution_count": 110,
   "id": "3a380487",
   "metadata": {},
   "outputs": [],
   "source": [
    "# Sinkhorn's Algorithm\n",
    "V = np.ones((len(a), ns))\n",
    "max_niter = 100\n",
    "actual_niter = 0\n",
    "threshold = 1e-3\n",
    "for _ in range(max_niter):\n",
    "    V1 = V\n",
    "    U = A / np.matmul(K, V)\n",
    "    V = B / np.matmul(K.T, U)\n",
    "    \n",
    "    err = np.sum(np.abs(V-V1))\n",
    "    actual_niter += 1\n",
    "    if err < threshold:\n",
    "        break"
   ]
  },
  {
   "cell_type": "code",
   "execution_count": 111,
   "id": "bc20d37c",
   "metadata": {},
   "outputs": [
    {
     "data": {
      "text/plain": [
       "26"
      ]
     },
     "execution_count": 111,
     "metadata": {},
     "output_type": "execute_result"
    }
   ],
   "source": [
    "actual_niter"
   ]
  },
  {
   "cell_type": "code",
   "execution_count": 119,
   "id": "a8a43ca0",
   "metadata": {},
   "outputs": [
    {
     "data": {
      "text/plain": [
       "(100, 20)"
      ]
     },
     "execution_count": 119,
     "metadata": {},
     "output_type": "execute_result"
    }
   ],
   "source": [
    "U.shape"
   ]
  },
  {
   "cell_type": "code",
   "execution_count": 120,
   "id": "6ae5a7d3",
   "metadata": {},
   "outputs": [],
   "source": [
    "a0 = np.array([1, 2])\n",
    "a1 = np.arange(4).reshape(2, 2)\n",
    "a2 = np.array([2, 3])"
   ]
  },
  {
   "cell_type": "code",
   "execution_count": 121,
   "id": "b3b53b6f",
   "metadata": {},
   "outputs": [
    {
     "data": {
      "text/plain": [
       "(array([1, 2]),\n",
       " array([[0, 1],\n",
       "        [2, 3]]),\n",
       " array([2, 3]))"
      ]
     },
     "execution_count": 121,
     "metadata": {},
     "output_type": "execute_result"
    }
   ],
   "source": [
    "a0, a1, a2"
   ]
  },
  {
   "cell_type": "code",
   "execution_count": 123,
   "id": "911ffa08",
   "metadata": {},
   "outputs": [
    {
     "data": {
      "text/plain": [
       "array([[0, 1],\n",
       "       [4, 6]])"
      ]
     },
     "execution_count": 123,
     "metadata": {},
     "output_type": "execute_result"
    }
   ],
   "source": [
    "a0.reshape(-1, 1) * a1"
   ]
  },
  {
   "cell_type": "code",
   "execution_count": 126,
   "id": "ce86b239",
   "metadata": {},
   "outputs": [
    {
     "data": {
      "text/plain": [
       "array([[0, 3],\n",
       "       [4, 9]])"
      ]
     },
     "execution_count": 126,
     "metadata": {},
     "output_type": "execute_result"
    }
   ],
   "source": [
    "a1 * a2.reshape(1, -1)"
   ]
  },
  {
   "cell_type": "code",
   "execution_count": 127,
   "id": "06196aa0",
   "metadata": {},
   "outputs": [],
   "source": [
    "P = np.expand_dims(U.T, 2) * K * np.expand_dims(V.T, 1)"
   ]
  },
  {
   "cell_type": "code",
   "execution_count": 128,
   "id": "b5e2983d",
   "metadata": {},
   "outputs": [
    {
     "data": {
      "text/plain": [
       "(20, 100, 100)"
      ]
     },
     "execution_count": 128,
     "metadata": {},
     "output_type": "execute_result"
    }
   ],
   "source": [
    "P.shape"
   ]
  },
  {
   "cell_type": "code",
   "execution_count": 131,
   "id": "acd23986",
   "metadata": {},
   "outputs": [],
   "source": [
    "e = np.matmul(np.matmul(np.diag(U[:, 0]), K), np.diag(V[:, 0])) - P[0]"
   ]
  },
  {
   "cell_type": "code",
   "execution_count": 133,
   "id": "9922a0f4",
   "metadata": {},
   "outputs": [
    {
     "data": {
      "text/plain": [
       "0.0"
      ]
     },
     "execution_count": 133,
     "metadata": {},
     "output_type": "execute_result"
    }
   ],
   "source": [
    "np.abs(e).max()"
   ]
  },
  {
   "cell_type": "code",
   "execution_count": 138,
   "id": "09837d51",
   "metadata": {},
   "outputs": [],
   "source": [
    "D = np.sum(P * cost, axis=(1, 2))"
   ]
  },
  {
   "cell_type": "code",
   "execution_count": 139,
   "id": "cd46b411",
   "metadata": {},
   "outputs": [
    {
     "data": {
      "text/plain": [
       "(20,)"
      ]
     },
     "execution_count": 139,
     "metadata": {},
     "output_type": "execute_result"
    }
   ],
   "source": [
    "D.shape"
   ]
  },
  {
   "cell_type": "code",
   "execution_count": 140,
   "id": "4ab663ea",
   "metadata": {},
   "outputs": [
    {
     "data": {
      "text/plain": [
       "array([131.68396649, 107.54441184,  85.94586294,  66.8883198 ,\n",
       "        50.3717824 ,  36.39625076,  24.96172487,  16.06820474,\n",
       "         9.71569036,   5.90418173,   4.63367885,   5.90418173,\n",
       "         9.71569036,  16.06820474,  24.96172487,  36.39625076,\n",
       "        50.3717824 ,  66.8883198 ,  85.94586294, 107.54441184])"
      ]
     },
     "execution_count": 140,
     "metadata": {},
     "output_type": "execute_result"
    }
   ],
   "source": [
    "D"
   ]
  },
  {
   "cell_type": "code",
   "execution_count": 141,
   "id": "407dce6e",
   "metadata": {},
   "outputs": [
    {
     "data": {
      "image/png": "[encoded data removed]",
      "text/plain": [
       "<Figure size 432x288 with 1 Axes>"
      ]
     },
     "metadata": {
      "needs_background": "light"
     },
     "output_type": "display_data"
    }
   ],
   "source": [
    "plt.figure()\n",
    "plt.plot(D)\n",
    "plt.show()"
   ]
  },
  {
   "cell_type": "code",
   "execution_count": 142,
   "id": "bc428dd6",
   "metadata": {},
   "outputs": [],
   "source": [
    "D2 = np.sum((A - B) ** 2, axis=0)"
   ]
  },
  {
   "cell_type": "code",
   "execution_count": 144,
   "id": "4ffb976d",
   "metadata": {},
   "outputs": [
    {
     "data": {
      "text/plain": [
       "[<matplotlib.lines.Line2D at 0x2196aca5888>]"
      ]
     },
     "execution_count": 144,
     "metadata": {},
     "output_type": "execute_result"
    },
    {
     "data": {
      "image/png": "[encoded data removed]",
      "text/plain": [
       "<Figure size 432x288 with 1 Axes>"
      ]
     },
     "metadata": {
      "needs_background": "light"
     },
     "output_type": "display_data"
    }
   ],
   "source": [
    "plt.figure()\n",
    "plt.plot(D2)"
   ]
  },
  {
   "cell_type": "code",
   "execution_count": null,
   "id": "a14d974a",
   "metadata": {},
   "outputs": [],
   "source": []
  }
 ],
 "metadata": {
  "kernelspec": {
   "display_name": "Python 3",
   "language": "python",
   "name": "python3"
  },
  "language_info": {
   "codemirror_mode": {
    "name": "ipython",
    "version": 3
   },
   "file_extension": ".py",
   "mimetype": "text/x-python",
   "name": "python",
   "nbconvert_exporter": "python",
   "pygments_lexer": "ipython3",
   "version": "3.7.10"
  }
 },
 "nbformat": 4,
 "nbformat_minor": 5
}
