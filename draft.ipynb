{
 "cells": [
  {
   "cell_type": "code",
   "execution_count": 47,
   "id": "c61c3721",
   "metadata": {},
   "outputs": [],
   "source": [
    "import torch\n",
    "import numpy as np\n",
    "import matplotlib.pyplot as plt\n",
    "%matplotlib inline"
   ]
  },
  {
   "cell_type": "code",
   "execution_count": 48,
   "id": "0913d24c",
   "metadata": {},
   "outputs": [
    {
     "data": {
      "text/plain": [
       "<matplotlib.legend.Legend at 0x2a3f964ef08>"
      ]
     },
     "execution_count": 48,
     "metadata": {},
     "output_type": "execute_result"
    },
    {
     "data": {
      "image/png": "[encoded data removed]",
      "text/plain": [
       "<Figure size 432x288 with 1 Axes>"
      ]
     },
     "metadata": {
      "needs_background": "light"
     },
     "output_type": "display_data"
    }
   ],
   "source": [
    "n_points = 5\n",
    "a = np.array([[i, 0] for i in range(n_points)])\n",
    "b = np.array([[i, 1] for i in range(n_points)])\n",
    "\n",
    "plt.figure()\n",
    "plt.scatter(a[:, 0], a[:, 1], label='supp($p(x)$')\n",
    "plt.scatter(b[:, 0], b[:, 1], label='supp($q(x)$')\n",
    "plt.legend()"
   ]
  },
  {
   "cell_type": "code",
   "execution_count": 49,
   "id": "1301f630",
   "metadata": {},
   "outputs": [],
   "source": [
    "x = torch.tensor(a, dtype=torch.float)\n",
    "y = torch.tensor(b, dtype=torch.float)"
   ]
  },
  {
   "cell_type": "code",
   "execution_count": 50,
   "id": "6b1e4b0b",
   "metadata": {},
   "outputs": [],
   "source": [
    "# Cost Matrix\n",
    "p = 2\n",
    "x_col = x.unsqueeze(1)\n",
    "y_lin = y.unsqueeze(0)\n",
    "c = torch.sum((torch.abs(x_col - y_lin)) ** 2, 2)"
   ]
  },
  {
   "cell_type": "code",
   "execution_count": 51,
   "id": "19966892",
   "metadata": {},
   "outputs": [
    {
     "data": {
      "text/plain": [
       "tensor([[ 1.,  2.,  5., 10., 17.],\n",
       "        [ 2.,  1.,  2.,  5., 10.],\n",
       "        [ 5.,  2.,  1.,  2.,  5.],\n",
       "        [10.,  5.,  2.,  1.,  2.],\n",
       "        [17., 10.,  5.,  2.,  1.]])"
      ]
     },
     "execution_count": 51,
     "metadata": {},
     "output_type": "execute_result"
    }
   ],
   "source": [
    "c"
   ]
  },
  {
   "cell_type": "code",
   "execution_count": 75,
   "id": "47e62905",
   "metadata": {},
   "outputs": [],
   "source": [
    "# Sinkhorn's Algorithm\n",
    "mu = torch.ones(n_points,requires_grad=True) / n_points\n",
    "nu = torch.ones(n_points,requires_grad=True) / n_points\n",
    "epsilon = 1\n",
    "K = torch.exp(-c/epsilon)\n",
    "\n",
    "v = torch.ones(n_points)\n",
    "max_niter = 100\n",
    "actual_niter = 0\n",
    "threshold = 1e-3\n",
    "for _ in range(max_niter):\n",
    "    v1 = v\n",
    "    u = mu / torch.matmul(K, v)\n",
    "    v = nu / torch.matmul(K.T, u)\n",
    "    \n",
    "    err = torch.sum(torch.abs(v-v1))\n",
    "    actual_niter += 1\n",
    "    if err < threshold:\n",
    "        break"
   ]
  },
  {
   "cell_type": "code",
   "execution_count": 76,
   "id": "21dc79ef",
   "metadata": {},
   "outputs": [
    {
     "data": {
      "text/plain": [
       "8"
      ]
     },
     "execution_count": 76,
     "metadata": {},
     "output_type": "execute_result"
    }
   ],
   "source": [
    "actual_niter"
   ]
  },
  {
   "cell_type": "code",
   "execution_count": 77,
   "id": "0b8610f3",
   "metadata": {},
   "outputs": [
    {
     "data": {
      "text/plain": [
       "tensor([0.3725, 0.3182, 0.3232, 0.3182, 0.3725], grad_fn=<DivBackward0>)"
      ]
     },
     "execution_count": 77,
     "metadata": {},
     "output_type": "execute_result"
    }
   ],
   "source": [
    "u"
   ]
  },
  {
   "cell_type": "code",
   "execution_count": 78,
   "id": "5f1cc2bb",
   "metadata": {},
   "outputs": [
    {
     "data": {
      "text/plain": [
       "tensor([1.0971, 0.9374, 0.9523, 0.9374, 1.0971], grad_fn=<DivBackward0>)"
      ]
     },
     "execution_count": 78,
     "metadata": {},
     "output_type": "execute_result"
    }
   ],
   "source": [
    "v"
   ]
  },
  {
   "cell_type": "code",
   "execution_count": 79,
   "id": "d31d3593",
   "metadata": {},
   "outputs": [
    {
     "data": {
      "text/plain": [
       "tensor([[1.5035e-01, 4.7257e-02, 2.3901e-03, 1.5853e-05, 1.6920e-08],\n",
       "        [4.7244e-02, 1.0972e-01, 4.1005e-02, 2.0096e-03, 1.5848e-05],\n",
       "        [2.3890e-03, 4.0997e-02, 1.1321e-01, 4.0997e-02, 2.3890e-03],\n",
       "        [1.5848e-05, 2.0096e-03, 4.1005e-02, 1.0972e-01, 4.7244e-02],\n",
       "        [1.6920e-08, 1.5853e-05, 2.3901e-03, 4.7257e-02, 1.5035e-01]],\n",
       "       grad_fn=<MmBackward>)"
      ]
     },
     "execution_count": 79,
     "metadata": {},
     "output_type": "execute_result"
    }
   ],
   "source": [
    "P = torch.matmul(torch.matmul(torch.diag(u), K), torch.diag(v))\n",
    "P"
   ]
  },
  {
   "cell_type": "code",
   "execution_count": 80,
   "id": "afb49ef3",
   "metadata": {},
   "outputs": [
    {
     "data": {
      "text/plain": [
       "<matplotlib.colorbar.Colorbar at 0x2a3f91fef88>"
      ]
     },
     "execution_count": 80,
     "metadata": {},
     "output_type": "execute_result"
    },
    {
     "data": {
      "image/png": "[encoded data removed]",
      "text/plain": [
       "<Figure size 432x288 with 2 Axes>"
      ]
     },
     "metadata": {
      "needs_background": "light"
     },
     "output_type": "display_data"
    }
   ],
   "source": [
    "plt.figure()\n",
    "plt.imshow(P.detach().numpy())\n",
    "plt.colorbar()"
   ]
  },
  {
   "cell_type": "code",
   "execution_count": 72,
   "id": "66bbcf00",
   "metadata": {},
   "outputs": [
    {
     "data": {
      "text/plain": [
       "tensor(1.0001, grad_fn=<SumBackward0>)"
      ]
     },
     "execution_count": 72,
     "metadata": {},
     "output_type": "execute_result"
    }
   ],
   "source": [
    "dist = torch.sum(P * c)\n",
    "dist"
   ]
  }
 ],
 "metadata": {
  "kernelspec": {
   "display_name": "Python 3",
   "language": "python",
   "name": "python3"
  },
  "language_info": {
   "codemirror_mode": {
    "name": "ipython",
    "version": 3
   },
   "file_extension": ".py",
   "mimetype": "text/x-python",
   "name": "python",
   "nbconvert_exporter": "python",
   "pygments_lexer": "ipython3",
   "version": "3.7.10"
  }
 },
 "nbformat": 4,
 "nbformat_minor": 5
}
